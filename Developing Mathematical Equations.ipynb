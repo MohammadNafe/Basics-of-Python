"# Write a program on Calculation of area for a Right Angled Triangle.\n",
 "# Input the measureent of base.\n",
        "x = int(input(\"Enter the Value of Base: \"))\n",
        "# Input the value measurment of height.\n",
        "y = int(input('Enter the Value of Height: '))\n",
        "# Developing the equation for area calclulation.\n",
        "Area= .5*x*y\n",
        "# Final output after providing all the values.\n",
        "print('Area of the Right Angled Triangle = ', str(Area) , 'square centimeters')\n",
        "# The unit of calculation can be changed according to the specfications of calculation.\n"
      ],
      "execution_count": null,
      "outputs": [
        {
          "output_type": "stream",
          "name": "stdout",
          "text": [
            "Enter the Value of Base: 16\n",
            "Enter the Value of Height: 12\n",
            "Area of the Right Angled Triangle =  96.0 square centimeters\n"
     
