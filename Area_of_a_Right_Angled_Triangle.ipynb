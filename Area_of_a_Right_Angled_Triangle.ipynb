{
  "nbformat": 4,
  "nbformat_minor": 0,
  "metadata": {
    "colab": {
      "name": "Area of a Right Angled Triangle.ipynb",
      "provenance": [],
      "collapsed_sections": [],
      "authorship_tag": "ABX9TyMv4rjYTTTBGHzzt7oI87Lc",
      "include_colab_link": true
    },
    "kernelspec": {
      "name": "python3",
      "display_name": "Python 3"
    },
    "language_info": {
      "name": "python"
    }
  },
  "cells": [
    {
      "cell_type": "markdown",
      "metadata": {
        "id": "view-in-github",
        "colab_type": "text"
      },
      "source": [
        "<a href=\"https://colab.research.google.com/github/MohammadNafe/Basics-of-Python/blob/main/Area_of_a_Right_Angled_Triangle.ipynb\" target=\"_parent\"><img src=\"https://colab.research.google.com/assets/colab-badge.svg\" alt=\"Open In Colab\"/></a>"
      ]
    },
    {
      "cell_type": "markdown",
      "metadata": {
        "id": "Zd2oUiMT72rL"
      },
      "source": [
        "**A Python program is created for calculating the area of Right Angled Triangle**"
      ]
    },
    {
      "cell_type": "code",
      "metadata": {
        "colab": {
          "base_uri": "https://localhost:8080/"
        },
        "id": "pClO8qR-4O9r",
        "outputId": "87a0cc24-b943-4e3a-f441-cdf2cad0ff44"
      },
      "source": [
        "\n",
        "# Write a program on Calculation of area for a Right Angled Triangle.\n",
        "# Input the measureent of base.\n",
        "x = int(input(\"Enter the Value of Base: \"))\n",
        "# Input the value measurment of height.\n",
        "y = int(input('Enter the Value of Height: '))\n",
        "# Developing the equation for area calclulation.\n",
        "Area= .5*x*y\n",
        "# Final output after providing all the values.\n",
        "print('Area of the Right Angled Triangle = ', str(Area) , 'square centimeters')\n",
        "# The unit of calculation can be changed according to the specfications of calculation."
      ],
      "execution_count": 2,
      "outputs": [
        {
          "output_type": "stream",
          "name": "stdout",
          "text": [
            "Enter the Value of Base: 20\n",
            "Enter the Value of Height: 8\n",
            "Area of the Right Angled Triangle =  80.0 square centimeters\n"
          ]
        }
      ]
    },
    {
      "cell_type": "markdown",
      "metadata": {
        "id": "1UTDuOeD7ZsY"
      },
      "source": [
        "After creating the code it has been execcuted and the aforementioned result was obtained."
      ]
    }
  ]
}