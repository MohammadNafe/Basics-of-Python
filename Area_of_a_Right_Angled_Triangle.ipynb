{
  "nbformat": 4,
  "nbformat_minor": 0,
  "metadata": {
    "colab": {
      "name": "Area of a Right Angled Triangle.ipynb",
      "provenance": [],
      "collapsed_sections": [],
      "authorship_tag": "ABX9TyMjFVUxBM319gz7RQUsYdX2"
    },
    "kernelspec": {
      "name": "python3",
      "display_name": "Python 3"
    },
    "language_info": {
      "name": "python"
    }
  },
  "cells": [
    {
      "cell_type": "code",
      "metadata": {
        "colab": {
          "base_uri": "https://localhost:8080/"
        },
        "id": "pClO8qR-4O9r",
        "outputId": "4dbc9546-c2cd-42f2-d875-70a46422737e"
      },
      "source": [
        "# Write a program on Calculation of area for a Right Angled Triangle.\n",
        "# Input the measureent of base.\n",
        "x = int(input(\"Enter the Value of Base: \"))\n",
        "# Input the value measurment of height.\n",
        "y = int(input('Enter the Value of Height: '))\n",
        "# Developing the equation for area calclulation.\n",
        "Area= .5*x*y\n",
        "# Final output after providing all the values.\n",
        "print('Area of the Right Angled Triangle = ', str(Area) , 'square centimeters')\n",
        "# The unit of calculation can be changed according to the specfications of calculation."
      ],
      "execution_count": 1,
      "outputs": [
        {
          "output_type": "stream",
          "name": "stdout",
          "text": [
            "Enter the Value of Base: 20\n",
            "Enter the Value of Height: 8\n",
            "Area of the Right Angled Triangle =  80.0 square centimeters\n"
          ]
        }
      ]
    }
  ]
}